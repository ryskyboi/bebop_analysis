{
 "cells": [
  {
   "cell_type": "code",
   "execution_count": null,
   "metadata": {},
   "outputs": [],
   "source": [
    "# table = pd.read_csv(\"current.csv\", delimiter=\";\", header=None)\n",
    "# table.columns=[\"position\", \"name\", \"volume\"]\n",
    "# table['volume'] = table['volume'].replace(r'[\\$,]', '', regex=True).astype(float)"
   ]
  },
  {
   "cell_type": "code",
   "execution_count": null,
   "metadata": {},
   "outputs": [],
   "source": [
    "# df = pd.read_csv(\"current.csv\", delimiter=\";\", header=None, names=[\"position\", \"name\", \"volume\"])\n",
    "\n",
    "# df[\"volume\"] = df[\"volume\"].replace(r'[\\$,]', '', regex=True).astype(float)\n",
    "# df[df[\"name\"] == \"0xb043...c16c\"][\"volume\"]\n",
    "# (df[df[\"name\"] == \"0xb043...c16c\"][\"volume\"] / (df[\"volume\"].iloc[-1] * 4500 + df[\"volume\"][3:].sum())) * 30_000"
   ]
  }
 ],
 "metadata": {
  "language_info": {
   "name": "python"
  }
 },
 "nbformat": 4,
 "nbformat_minor": 2
}
